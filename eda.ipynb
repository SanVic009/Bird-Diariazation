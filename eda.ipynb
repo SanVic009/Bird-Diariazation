{
 "cells": [
  {
   "cell_type": "code",
   "execution_count": 2,
   "id": "5c0c2f7e",
   "metadata": {},
   "outputs": [],
   "source": [
    "import pandas as pd\n",
    "import numpy as np"
   ]
  },
  {
   "cell_type": "code",
   "execution_count": 3,
   "id": "bcec391e",
   "metadata": {},
   "outputs": [],
   "source": [
    "df = pd.read_csv(\"dataset/birdclef-2024/train_metadata.csv\")"
   ]
  },
  {
   "cell_type": "code",
   "execution_count": 4,
   "id": "194974ec",
   "metadata": {},
   "outputs": [
    {
     "data": {
      "text/plain": [
       "Index(['primary_label', 'secondary_labels', 'type', 'latitude', 'longitude',\n",
       "       'scientific_name', 'common_name', 'author', 'license', 'rating', 'url',\n",
       "       'filename'],\n",
       "      dtype='object')"
      ]
     },
     "execution_count": 4,
     "metadata": {},
     "output_type": "execute_result"
    }
   ],
   "source": [
    "df.columns"
   ]
  },
  {
   "cell_type": "code",
   "execution_count": 6,
   "id": "f400ec34",
   "metadata": {},
   "outputs": [
    {
     "data": {
      "text/plain": [
       "array(['Asian Brown Flycatcher', 'Ashy Drongo', 'Ashy Prinia',\n",
       "       'Ashy Woodswallow', 'Asian Koel', 'Asian Openbill',\n",
       "       'Indian Paradise-Flycatcher', 'Asian Palm-Swift',\n",
       "       'Black-and-orange Flycatcher', 'Barn Swallow',\n",
       "       'Black-crowned Night-Heron', 'Flame-throated Bulbul',\n",
       "       'Black-rumped Flameback', 'Black-winged Kite',\n",
       "       'Black-winged Stilt', 'Black Drongo', 'Black Eagle', 'Black Kite',\n",
       "       'Black-hooded Oriole', 'Black-naped Monarch',\n",
       "       \"Blyth's Reed Warbler\", 'Brown-capped Pygmy Woodpecker',\n",
       "       'Brahminy Kite', 'Brahminy Starling', 'Brown-cheeked Fulvetta',\n",
       "       'Brown Fish-Owl', 'Brown Boobook', 'Brown Shrike',\n",
       "       'Bronzed Drongo', 'Bronze-winged Jacana', 'Brown Wood-Owl',\n",
       "       'Blue-tailed Bee-eater', 'Bar-winged Flycatcher-shrike',\n",
       "       'Cattle Egret', 'Chestnut-headed Bee-eater', 'Common Hawk-Cuckoo',\n",
       "       'Common Flameback', 'Common Greenshank', 'Common Iora',\n",
       "       'Common Kingfisher', 'Eurasian Moorhen', 'Common Myna',\n",
       "       'Indian Peafowl', 'Common Rosefinch', 'Common Sandpiper',\n",
       "       'Common Tailorbird', 'Coppersmith Barbet',\n",
       "       'Crimson-backed Sunbird', 'Crested Goshawk', 'Malabar Barbet',\n",
       "       'Crested Serpent-Eagle', 'Dark-fronted Babbler', 'Oriental Darter',\n",
       "       'Western Yellow Wagtail', 'Asian Emerald Dove',\n",
       "       'Eurasian Collared-Dove', 'Indian Blackbird', 'Eurasian Coot',\n",
       "       'Forest Wagtail', 'Garganey', 'Glossy Ibis',\n",
       "       'Golden-fronted Leafbird', 'Gray Heron', 'Green Bee-eater',\n",
       "       'Greater Coucal', 'Great Egret', 'Greater Flameback',\n",
       "       'Great Hornbill', 'Gray Junglefowl', 'Great Eared-Nightjar',\n",
       "       'Greenish Warbler', 'Green Sandpiper', 'Green Warbler',\n",
       "       'Greater Racket-tailed Drongo', 'Gray Francolin',\n",
       "       'Jungle Nightjar', 'Gray Wagtail', 'Gray-breasted Prinia',\n",
       "       'Gray-headed Canary-Flycatcher', 'Heart-spotted Woodpecker',\n",
       "       'Eurasian Hoopoe', 'House Crow', 'House Sparrow',\n",
       "       'Indian Blue Robin', 'Indian Pitta', 'Indian Robin',\n",
       "       'Indian Roller', 'Indian Yellow Tit', 'Indian Golden Oriole',\n",
       "       'Indian Pond-Heron', 'Indian Scimitar-Babbler', 'Indian Scops-Owl',\n",
       "       'Intermediate Egret', 'Indian Spot-billed Duck',\n",
       "       \"Jerdon's Bushlark\", 'Jungle Babbler', 'Jungle Myna',\n",
       "       'Jungle Owlet', 'Kentish Plover', 'Palani Laughingthrush',\n",
       "       'Large-billed Crow', 'Laughing Dove', 'Large-billed Leaf Warbler',\n",
       "       'Lesser Yellownape', 'Lesser Whistling-Duck',\n",
       "       'Little Ringed Plover', 'Little Egret', 'Little Grebe',\n",
       "       'Little Spiderhunter', 'Little Swift', \"Loten's Sunbird\",\n",
       "       'Malabar Gray Hornbill', 'Malabar Parakeet', 'Malabar Trogon',\n",
       "       'Malabar Woodshrike', 'Marsh Sandpiper',\n",
       "       'Malabar Whistling-Thrush', 'Mountain Imperial-Pigeon',\n",
       "       'Nilgiri Flycatcher', 'Nilgiri Wood-Pigeon',\n",
       "       'Scaly-breasted Munia', 'Oriental Honey-buzzard',\n",
       "       'Paddyfield Pipit', 'Pale-billed Flowerpecker', 'Painted Stork',\n",
       "       'Pied Bushchat', 'Pied Kingfisher', 'Gray-bellied Cuckoo',\n",
       "       'Nilgiri Flowerpecker', 'Plain Prinia', 'Plum-headed Parakeet',\n",
       "       'Gray-fronted Green-Pigeon', 'Purple Heron',\n",
       "       'Purple-rumped Sunbird', 'Purple Sunbird', 'Gray-headed Swamphen',\n",
       "       'Puff-throated Babbler', 'Red Spurfowl', 'Red-rumped Swallow',\n",
       "       'Red-vented Bulbul', 'Red-whiskered Bulbul', 'Red-wattled Lapwing',\n",
       "       'Rock Pigeon', 'Rose-ringed Parakeet', 'Rosy Starling',\n",
       "       'Rufous Babbler', 'Rufous Treepie', 'Rufous Woodpecker',\n",
       "       'Rusty-tailed Flycatcher', 'Spot-bellied Eagle-Owl',\n",
       "       'Orange Minivet', 'Shikra', 'Small Minivet', 'Southern Hill Myna',\n",
       "       'Speckled Piculet', 'Spotted Dove', 'Spotted Owlet',\n",
       "       'Square-tailed Bulbul', 'Stork-billed Kingfisher',\n",
       "       'Streak-throated Woodpecker', 'Thick-billed Warbler',\n",
       "       \"Tickell's Blue Flycatcher\", \"Tickell's Leaf Warbler\",\n",
       "       'Velvet-fronted Nuthatch', 'Vernal Hanging-Parrot',\n",
       "       'White-bellied Blue Flycatcher', 'Eurasian Marsh-Harrier',\n",
       "       'White-browed Bulbul', 'White-bellied Sholakili',\n",
       "       'White-bellied Treepie', 'White-browed Wagtail',\n",
       "       'White-breasted Waterhen', 'White-bellied Woodpecker',\n",
       "       'White-cheeked Barbet', 'Whiskered Tern', 'White-rumped Munia',\n",
       "       'White-throated Kingfisher', 'Wood Sandpiper',\n",
       "       'Wayanad Laughingthrush', 'Yellow-billed Babbler',\n",
       "       'Yellow-browed Bulbul', 'Zitting Cisticola'], dtype=object)"
      ]
     },
     "execution_count": 6,
     "metadata": {},
     "output_type": "execute_result"
    }
   ],
   "source": [
    "df[\"common_name\"].unique()"
   ]
  }
 ],
 "metadata": {
  "kernelspec": {
   "display_name": "voice",
   "language": "python",
   "name": "python3"
  },
  "language_info": {
   "codemirror_mode": {
    "name": "ipython",
    "version": 3
   },
   "file_extension": ".py",
   "mimetype": "text/x-python",
   "name": "python",
   "nbconvert_exporter": "python",
   "pygments_lexer": "ipython3",
   "version": "3.11.13"
  }
 },
 "nbformat": 4,
 "nbformat_minor": 5
}
