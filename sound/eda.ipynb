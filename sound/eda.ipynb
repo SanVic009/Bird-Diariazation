{
 "cells": [
  {
   "cell_type": "code",
   "execution_count": 2,
   "id": "e0dfe31c",
   "metadata": {},
   "outputs": [],
   "source": [
    "import pandas as pd\n",
    "import numpy as np"
   ]
  },
  {
   "cell_type": "code",
   "execution_count": 4,
   "id": "dfa987bb",
   "metadata": {},
   "outputs": [
    {
     "data": {
      "text/plain": [
       "<bound method NDFrame.head of       primary_label secondary_labels      type  latitude  longitude  \\\n",
       "0            asbfly               []  ['call']   39.2297   118.1987   \n",
       "1            asbfly               []  ['song']   51.4030   104.6401   \n",
       "2            asbfly               []  ['song']   36.3319   127.3555   \n",
       "3            asbfly               []  ['call']   21.1697    70.6005   \n",
       "4            asbfly               []  ['call']   15.5442    73.7733   \n",
       "...             ...              ...       ...       ...        ...   \n",
       "24454       zitcis1               []      ['']   43.5925     4.5434   \n",
       "24455       zitcis1               []      ['']   43.5925     4.5434   \n",
       "24456       zitcis1               []      ['']   51.1207     4.5607   \n",
       "24457       zitcis1               []      ['']   41.5607    -8.4236   \n",
       "24458       zitcis1               []      ['']   13.7747   100.8919   \n",
       "\n",
       "          scientific_name             common_name  \\\n",
       "0      Muscicapa dauurica  Asian Brown Flycatcher   \n",
       "1      Muscicapa dauurica  Asian Brown Flycatcher   \n",
       "2      Muscicapa dauurica  Asian Brown Flycatcher   \n",
       "3      Muscicapa dauurica  Asian Brown Flycatcher   \n",
       "4      Muscicapa dauurica  Asian Brown Flycatcher   \n",
       "...                   ...                     ...   \n",
       "24454  Cisticola juncidis       Zitting Cisticola   \n",
       "24455  Cisticola juncidis       Zitting Cisticola   \n",
       "24456  Cisticola juncidis       Zitting Cisticola   \n",
       "24457  Cisticola juncidis       Zitting Cisticola   \n",
       "24458  Cisticola juncidis       Zitting Cisticola   \n",
       "\n",
       "                                  author  \\\n",
       "0                         Matt Slaymaker   \n",
       "1                       Magnus Hellström   \n",
       "2                          Stuart Fisher   \n",
       "3                              vir joshi   \n",
       "4      Albert Lastukhin & Sergei Karpeev   \n",
       "...                                  ...   \n",
       "24454                  Chèvremont Fabian   \n",
       "24455                  Chèvremont Fabian   \n",
       "24456                         Wim Jacobs   \n",
       "24457                       Jorge Leitão   \n",
       "24458                         Sam Hambly   \n",
       "\n",
       "                                                 license  rating  \\\n",
       "0      Creative Commons Attribution-NonCommercial-Sha...     5.0   \n",
       "1      Creative Commons Attribution-NonCommercial-Sha...     2.5   \n",
       "2      Creative Commons Attribution-NonCommercial-Sha...     2.5   \n",
       "3      Creative Commons Attribution-NonCommercial-Sha...     4.0   \n",
       "4      Creative Commons Attribution-NonCommercial-Sha...     4.0   \n",
       "...                                                  ...     ...   \n",
       "24454  Creative Commons Attribution-NonCommercial-Sha...     5.0   \n",
       "24455  Creative Commons Attribution-NonCommercial-Sha...     4.0   \n",
       "24456  Creative Commons Attribution-NonCommercial-Sha...     4.0   \n",
       "24457  Creative Commons Attribution-NonCommercial-Sha...     4.5   \n",
       "24458  Creative Commons Attribution-NonCommercial-Sha...     5.0   \n",
       "\n",
       "                                     url              filename  \n",
       "0      https://www.xeno-canto.org/134896   asbfly/XC134896.ogg  \n",
       "1      https://www.xeno-canto.org/164848   asbfly/XC164848.ogg  \n",
       "2      https://www.xeno-canto.org/175797   asbfly/XC175797.ogg  \n",
       "3      https://www.xeno-canto.org/207738   asbfly/XC207738.ogg  \n",
       "4      https://www.xeno-canto.org/209218   asbfly/XC209218.ogg  \n",
       "...                                  ...                   ...  \n",
       "24454      https://xeno-canto.org/845747  zitcis1/XC845747.ogg  \n",
       "24455      https://xeno-canto.org/845817  zitcis1/XC845817.ogg  \n",
       "24456      https://xeno-canto.org/856176  zitcis1/XC856176.ogg  \n",
       "24457      https://xeno-canto.org/856723  zitcis1/XC856723.ogg  \n",
       "24458      https://xeno-canto.org/858550  zitcis1/XC858550.ogg  \n",
       "\n",
       "[24459 rows x 12 columns]>"
      ]
     },
     "execution_count": 4,
     "metadata": {},
     "output_type": "execute_result"
    }
   ],
   "source": [
    "df = pd.read_csv(\"train_metadata.csv\")\n",
    "df.head"
   ]
  },
  {
   "cell_type": "code",
   "execution_count": null,
   "id": "33ce10d1",
   "metadata": {},
   "outputs": [],
   "source": []
  }
 ],
 "metadata": {
  "kernelspec": {
   "display_name": "voice",
   "language": "python",
   "name": "python3"
  },
  "language_info": {
   "codemirror_mode": {
    "name": "ipython",
    "version": 3
   },
   "file_extension": ".py",
   "mimetype": "text/x-python",
   "name": "python",
   "nbconvert_exporter": "python",
   "pygments_lexer": "ipython3",
   "version": "3.11.13"
  }
 },
 "nbformat": 4,
 "nbformat_minor": 5
}
